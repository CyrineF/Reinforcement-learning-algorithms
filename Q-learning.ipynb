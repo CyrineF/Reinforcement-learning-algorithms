{
  "nbformat": 4,
  "nbformat_minor": 0,
  "metadata": {
    "colab": {
      "provenance": [],
      "collapsed_sections": []
    },
    "kernelspec": {
      "name": "python3",
      "display_name": "Python 3"
    },
    "language_info": {
      "name": "python"
    }
  },
  "cells": [
    {
      "cell_type": "code",
      "execution_count": 1,
      "metadata": {
        "id": "9OlsXoq4rqYR"
      },
      "outputs": [],
      "source": [
        "import numpy as np\n",
        "import matplotlib.pyplot as plt\n",
        "import random "
      ]
    },
    {
      "cell_type": "code",
      "source": [
        "alpha = 0.3\n",
        "gamma= 0.5\n",
        "S = {1,2,3,4,5,6,7}\n",
        "F = {7}\n",
        "Q = np.zeros((6,4)) #H B G D\n",
        "T = np.zeros((6,4))\n",
        "R = np.zeros((6,4))"
      ],
      "metadata": {
        "id": "py30TwFssGP6"
      },
      "execution_count": 2,
      "outputs": []
    },
    {
      "cell_type": "code",
      "source": [
        "T[0,1] = 3\n",
        "T[1,1] = 5\n",
        "T[2,0] = 1\n",
        "T[2,1] = 6\n",
        "T[2,3] = 4\n",
        "T[3,2] = 3\n",
        "T[3,3] = 5\n",
        "T[4,0] = 2\n",
        "T[4,1] = 7\n",
        "T[4,2] = 4\n",
        "T[5,0] = 3"
      ],
      "metadata": {
        "id": "vcE8Tz7uukR8"
      },
      "execution_count": 3,
      "outputs": []
    },
    {
      "cell_type": "code",
      "source": [
        "R[0,1] = 3\n",
        "R[1,1] = 3\n",
        "R[2,0] = -1\n",
        "R[2,1] = -1\n",
        "R[2,3] = -1\n",
        "R[3,2] = -1\n",
        "R[3,3] = 3\n",
        "R[4,0] = -1\n",
        "R[4,1] = 3\n",
        "R[4,2] = -1\n",
        "R[5,0] = 3\n"
      ],
      "metadata": {
        "id": "vTNKHOv-wwv1"
      },
      "execution_count": 4,
      "outputs": []
    },
    {
      "cell_type": "code",
      "source": [
        "T"
      ],
      "metadata": {
        "colab": {
          "base_uri": "https://localhost:8080/"
        },
        "id": "4joiWW3Xf7on",
        "outputId": "4bafcda3-247b-4081-afef-0c627af49af7"
      },
      "execution_count": 15,
      "outputs": [
        {
          "output_type": "execute_result",
          "data": {
            "text/plain": [
              "array([[0., 3., 0., 0.],\n",
              "       [0., 5., 0., 0.],\n",
              "       [1., 6., 0., 4.],\n",
              "       [0., 0., 3., 5.],\n",
              "       [2., 7., 4., 0.],\n",
              "       [3., 0., 0., 0.]])"
            ]
          },
          "metadata": {},
          "execution_count": 15
        }
      ]
    },
    {
      "cell_type": "code",
      "source": [
        "def P_actions(T, current_state): \n",
        "  actions = []\n",
        "  l = T[current_state - 1]\n",
        "  for i in range(l.shape[0]) : \n",
        "    if l[i] != 0 : \n",
        "      actions.append((i, l[i]))\n",
        "  return actions\n",
        "#(action, next_state) [(a,s')...]"
      ],
      "metadata": {
        "id": "pNFMJHZGNEVH"
      },
      "execution_count": 5,
      "outputs": []
    },
    {
      "cell_type": "code",
      "source": [
        "P_actions(T, 6)"
      ],
      "metadata": {
        "colab": {
          "base_uri": "https://localhost:8080/"
        },
        "id": "MepSLGxo5Fh8",
        "outputId": "534bf294-a9f0-48a6-ed25-59bb5d0d22e6"
      },
      "execution_count": 6,
      "outputs": [
        {
          "output_type": "execute_result",
          "data": {
            "text/plain": [
              "[(0, 3.0)]"
            ]
          },
          "metadata": {},
          "execution_count": 6
        }
      ]
    },
    {
      "cell_type": "code",
      "source": [
        "#return (action, next_state)\n",
        "def exploration(T,current_state) : \n",
        "  actions = P_actions(T, current_state)\n",
        "  if len(actions) == 1 : \n",
        "    return actions[0]\n",
        "  else : \n",
        "    t= len(actions) \n",
        "    e = random.uniform(0,1)\n",
        "    i = 1\n",
        "    while i <= (len(actions)) : \n",
        "      if e < i/t : \n",
        "        return actions[i-1]\n",
        "      else : \n",
        "        i+=1 "
      ],
      "metadata": {
        "id": "rzbiQKVgI_gJ"
      },
      "execution_count": 12,
      "outputs": []
    },
    {
      "cell_type": "code",
      "source": [
        "exploration(T,6)"
      ],
      "metadata": {
        "colab": {
          "base_uri": "https://localhost:8080/"
        },
        "id": "YiJPIlBq6V4m",
        "outputId": "b57633b6-f7cb-40ac-fc1f-222f2a4ce2ca"
      },
      "execution_count": 9,
      "outputs": [
        {
          "output_type": "execute_result",
          "data": {
            "text/plain": [
              "(3, 5.0)"
            ]
          },
          "metadata": {},
          "execution_count": 9
        }
      ]
    },
    {
      "cell_type": "code",
      "source": [
        "def exploitation(Q, T, current_state) : \n",
        "  actions = P_actions(T, current_state) \n",
        "  max = Q[current_state - 1, actions[0][0]] \n",
        "  index=0\n",
        "  for i in range(1,len(actions)) :\n",
        "    if Q[current_state - 1, actions[i][0]]> max : \n",
        "      max = Q[current_state - 1, actions[i][0]]\n",
        "      index = i \n",
        "  \n",
        "  return actions[index]\n",
        "\n"
      ],
      "metadata": {
        "id": "jtFR3FXtSYcK"
      },
      "execution_count": 13,
      "outputs": []
    },
    {
      "cell_type": "code",
      "source": [
        "I = 1\n",
        "epsilon = 0.5 \n",
        "iter = 0\n",
        "current_state = I\n",
        "F = {7}\n",
        "while iter < 2:\n",
        "  current_state = I\n",
        "  while not(current_state in F) :\n",
        "    e = random.uniform(0,1)\n",
        "    if e < epsilon :\n",
        "      action = exploration(T,current_state)\n",
        "      print(\"exploration\")\n",
        "    else : \n",
        "      action = exploitation (Q,T,current_state)\n",
        "      print(\"exploration\") \n",
        "    \n",
        "    \n",
        "    print(action)\n",
        "    new_state =int(T[current_state - 1, action[0]])\n",
        "    print(\"next_state : \", new_state)\n",
        "    if new_state in F :\n",
        "      current_state = new_state\n",
        "    else : \n",
        "      m = max(list(Q[new_state-1]))\n",
        "      b1 = (1- alpha) * Q[current_state - 1, action[0]]\n",
        "      b2 = 0.3 * R[current_state - 1, action[0]]\n",
        "      b3 = 0.3 * gamma * m\n",
        "      Q[current_state - 1, action[0]] = b1 +  b2 + b3\n",
        "      \n",
        "      current_state = new_state\n",
        "   \n",
        "  iter+=1"
      ],
      "metadata": {
        "id": "6tfI-iM1Njhp",
        "colab": {
          "base_uri": "https://localhost:8080/"
        },
        "outputId": "46444ba0-abde-49b4-eb28-3e7da7385390"
      },
      "execution_count": 8,
      "outputs": [
        {
          "output_type": "stream",
          "name": "stdout",
          "text": [
            "exploration\n",
            "(1, 3.0)\n",
            "next_state :  3\n",
            "exploration\n",
            "(0, 1.0)\n",
            "next_state :  1\n",
            "exploration\n",
            "(1, 3.0)\n",
            "next_state :  3\n",
            "exploration\n",
            "(1, 6.0)\n",
            "next_state :  6\n",
            "exploration\n",
            "(0, 3.0)\n",
            "next_state :  3\n",
            "exploration\n",
            "(3, 4.0)\n",
            "next_state :  4\n",
            "exploration\n",
            "(2, 3.0)\n",
            "next_state :  3\n",
            "exploration\n",
            "(0, 1.0)\n",
            "next_state :  1\n",
            "exploration\n",
            "(1, 3.0)\n",
            "next_state :  3\n",
            "exploration\n",
            "(1, 6.0)\n",
            "next_state :  6\n",
            "exploration\n",
            "(0, 3.0)\n",
            "next_state :  3\n",
            "exploration\n",
            "(0, 1.0)\n",
            "next_state :  1\n",
            "exploration\n",
            "(1, 3.0)\n",
            "next_state :  3\n",
            "exploration\n",
            "(0, 1.0)\n",
            "next_state :  1\n",
            "exploration\n",
            "(1, 3.0)\n",
            "next_state :  3\n",
            "exploration\n",
            "(1, 6.0)\n",
            "next_state :  6\n",
            "exploration\n",
            "(0, 3.0)\n",
            "next_state :  3\n",
            "exploration\n",
            "(0, 1.0)\n",
            "next_state :  1\n",
            "exploration\n",
            "(1, 3.0)\n",
            "next_state :  3\n",
            "exploration\n",
            "(0, 1.0)\n",
            "next_state :  1\n",
            "exploration\n",
            "(1, 3.0)\n",
            "next_state :  3\n",
            "exploration\n",
            "(0, 1.0)\n",
            "next_state :  1\n",
            "exploration\n",
            "(1, 3.0)\n",
            "next_state :  3\n",
            "exploration\n",
            "(0, 1.0)\n",
            "next_state :  1\n",
            "exploration\n",
            "(1, 3.0)\n",
            "next_state :  3\n",
            "exploration\n",
            "(0, 1.0)\n",
            "next_state :  1\n",
            "exploration\n",
            "(1, 3.0)\n",
            "next_state :  3\n",
            "exploration\n",
            "(0, 1.0)\n",
            "next_state :  1\n",
            "exploration\n",
            "(1, 3.0)\n",
            "next_state :  3\n",
            "exploration\n",
            "(0, 1.0)\n",
            "next_state :  1\n",
            "exploration\n",
            "(1, 3.0)\n",
            "next_state :  3\n",
            "exploration\n",
            "(0, 1.0)\n",
            "next_state :  1\n",
            "exploration\n",
            "(1, 3.0)\n",
            "next_state :  3\n",
            "exploration\n",
            "(1, 6.0)\n",
            "next_state :  6\n",
            "exploration\n",
            "(0, 3.0)\n",
            "next_state :  3\n",
            "exploration\n",
            "(0, 1.0)\n",
            "next_state :  1\n",
            "exploration\n",
            "(1, 3.0)\n",
            "next_state :  3\n",
            "exploration\n",
            "(3, 4.0)\n",
            "next_state :  4\n",
            "exploration\n",
            "(3, 5.0)\n",
            "next_state :  5\n",
            "exploration\n",
            "(0, 2.0)\n",
            "next_state :  2\n",
            "exploration\n",
            "(1, 5.0)\n",
            "next_state :  5\n",
            "exploration\n",
            "(0, 2.0)\n",
            "next_state :  2\n",
            "exploration\n",
            "(1, 5.0)\n",
            "next_state :  5\n",
            "exploration\n",
            "(2, 4.0)\n",
            "next_state :  4\n",
            "exploration\n",
            "(3, 5.0)\n",
            "next_state :  5\n",
            "exploration\n",
            "(1, 7.0)\n",
            "next_state :  7\n",
            "exploration\n",
            "(1, 3.0)\n",
            "next_state :  3\n",
            "exploration\n",
            "(1, 6.0)\n",
            "next_state :  6\n",
            "exploration\n",
            "(0, 3.0)\n",
            "next_state :  3\n",
            "exploration\n",
            "(0, 1.0)\n",
            "next_state :  1\n",
            "exploration\n",
            "(1, 3.0)\n",
            "next_state :  3\n",
            "exploration\n",
            "(0, 1.0)\n",
            "next_state :  1\n",
            "exploration\n",
            "(1, 3.0)\n",
            "next_state :  3\n",
            "exploration\n",
            "(0, 1.0)\n",
            "next_state :  1\n",
            "exploration\n",
            "(1, 3.0)\n",
            "next_state :  3\n",
            "exploration\n",
            "(0, 1.0)\n",
            "next_state :  1\n",
            "exploration\n",
            "(1, 3.0)\n",
            "next_state :  3\n",
            "exploration\n",
            "(0, 1.0)\n",
            "next_state :  1\n",
            "exploration\n",
            "(1, 3.0)\n",
            "next_state :  3\n",
            "exploration\n",
            "(0, 1.0)\n",
            "next_state :  1\n",
            "exploration\n",
            "(1, 3.0)\n",
            "next_state :  3\n",
            "exploration\n",
            "(1, 6.0)\n",
            "next_state :  6\n",
            "exploration\n",
            "(0, 3.0)\n",
            "next_state :  3\n",
            "exploration\n",
            "(0, 1.0)\n",
            "next_state :  1\n",
            "exploration\n",
            "(1, 3.0)\n",
            "next_state :  3\n",
            "exploration\n",
            "(3, 4.0)\n",
            "next_state :  4\n",
            "exploration\n",
            "(2, 3.0)\n",
            "next_state :  3\n",
            "exploration\n",
            "(0, 1.0)\n",
            "next_state :  1\n",
            "exploration\n",
            "(1, 3.0)\n",
            "next_state :  3\n",
            "exploration\n",
            "(0, 1.0)\n",
            "next_state :  1\n",
            "exploration\n",
            "(1, 3.0)\n",
            "next_state :  3\n",
            "exploration\n",
            "(0, 1.0)\n",
            "next_state :  1\n",
            "exploration\n",
            "(1, 3.0)\n",
            "next_state :  3\n",
            "exploration\n",
            "(0, 1.0)\n",
            "next_state :  1\n",
            "exploration\n",
            "(1, 3.0)\n",
            "next_state :  3\n",
            "exploration\n",
            "(1, 6.0)\n",
            "next_state :  6\n",
            "exploration\n",
            "(0, 3.0)\n",
            "next_state :  3\n",
            "exploration\n",
            "(0, 1.0)\n",
            "next_state :  1\n",
            "exploration\n",
            "(1, 3.0)\n",
            "next_state :  3\n",
            "exploration\n",
            "(0, 1.0)\n",
            "next_state :  1\n",
            "exploration\n",
            "(1, 3.0)\n",
            "next_state :  3\n",
            "exploration\n",
            "(0, 1.0)\n",
            "next_state :  1\n",
            "exploration\n",
            "(1, 3.0)\n",
            "next_state :  3\n",
            "exploration\n",
            "(1, 6.0)\n",
            "next_state :  6\n",
            "exploration\n",
            "(0, 3.0)\n",
            "next_state :  3\n",
            "exploration\n",
            "(1, 6.0)\n",
            "next_state :  6\n",
            "exploration\n",
            "(0, 3.0)\n",
            "next_state :  3\n",
            "exploration\n",
            "(0, 1.0)\n",
            "next_state :  1\n",
            "exploration\n",
            "(1, 3.0)\n",
            "next_state :  3\n",
            "exploration\n",
            "(1, 6.0)\n",
            "next_state :  6\n",
            "exploration\n",
            "(0, 3.0)\n",
            "next_state :  3\n",
            "exploration\n",
            "(0, 1.0)\n",
            "next_state :  1\n",
            "exploration\n",
            "(1, 3.0)\n",
            "next_state :  3\n",
            "exploration\n",
            "(0, 1.0)\n",
            "next_state :  1\n",
            "exploration\n",
            "(1, 3.0)\n",
            "next_state :  3\n",
            "exploration\n",
            "(3, 4.0)\n",
            "next_state :  4\n",
            "exploration\n",
            "(3, 5.0)\n",
            "next_state :  5\n",
            "exploration\n",
            "(0, 2.0)\n",
            "next_state :  2\n",
            "exploration\n",
            "(1, 5.0)\n",
            "next_state :  5\n",
            "exploration\n",
            "(1, 7.0)\n",
            "next_state :  7\n"
          ]
        }
      ]
    },
    {
      "cell_type": "markdown",
      "source": [
        "***Méthode de Gibbs***"
      ],
      "metadata": {
        "id": "zMsxxT0IPuKJ"
      }
    },
    {
      "cell_type": "code",
      "source": [
        "from math import exp\n",
        "def probabilite(Q,T,current_state,t) :\n",
        "  actions = P_actions(T, current_state) #[(a',s')...]\n",
        "  pos = []\n",
        "  s=0\n",
        "  if len(actions) == 1 : \n",
        "    return actions[0]\n",
        "  else : \n",
        "    for l in actions :\n",
        "      s += exp(Q[current_state - 1, l[0]]/t)\n",
        "    for l in actions : \n",
        "      print(\"l\",l)\n",
        "      p = exp(Q[current_state-1,l[0]]/t)/s\n",
        "      pos.append(p)\n",
        "    print(\"pos\",pos)\n",
        "    res = random.choices(actions, weights=pos, k=1)\n",
        "    print(\"res\",res)\n",
        "    return res[0]"
      ],
      "metadata": {
        "id": "Re8ZIU1ouoVo"
      },
      "execution_count": 46,
      "outputs": []
    },
    {
      "cell_type": "code",
      "source": [
        "probabilite(Q,T,1,1)"
      ],
      "metadata": {
        "colab": {
          "base_uri": "https://localhost:8080/"
        },
        "id": "IbFO6yYNZdcT",
        "outputId": "8bf5e85a-1df0-44e4-a2a1-64def2fcbafe"
      },
      "execution_count": 47,
      "outputs": [
        {
          "output_type": "execute_result",
          "data": {
            "text/plain": [
              "(1, 3.0)"
            ]
          },
          "metadata": {},
          "execution_count": 47
        }
      ]
    },
    {
      "cell_type": "code",
      "source": [
        "Q[5,0] = -1000"
      ],
      "metadata": {
        "id": "aWXAeO-FoWPE"
      },
      "execution_count": 37,
      "outputs": []
    },
    {
      "cell_type": "code",
      "source": [
        "I = 1\n",
        "epsilon = 0.5 \n",
        "iter = 0\n",
        "current_state = I\n",
        "F = {7}\n",
        "while iter < 2:\n",
        "  current_state = I\n",
        "  while not(current_state in F) :\n",
        "    e = random.uniform(0,1)\n",
        "    if e < epsilon :\n",
        "      action = probabilite(Q,T,I,1)\n",
        "      print(\"exploration\")\n",
        "    else : \n",
        "      action = exploitation (Q,T,current_state)\n",
        "      print(\"exploration\") \n",
        "    \n",
        "    \n",
        "    print(action)\n",
        "    new_state =int(T[current_state - 1, action[0]])\n",
        "    print(\"next_state : \", new_state)\n",
        "    if new_state in F :\n",
        "      current_state = new_state\n",
        "    else : \n",
        "      m = max(list(Q[new_state-1]))\n",
        "      b1 = (1- alpha) * Q[current_state - 1, action[0]]\n",
        "      b2 = 0.3 * R[current_state - 1, action[0]],\n",
        "      b3 = 0.3 * gamma * m\n",
        "      Q[current_state - 1, action[0]] = b1 +  b2 + b3\n",
        "      \n",
        "      current_state = new_state\n",
        "   \n",
        "  iter+=1"
      ],
      "metadata": {
        "id": "i3m9AHRPbk2P"
      },
      "execution_count": null,
      "outputs": []
    },
    {
      "cell_type": "code",
      "source": [],
      "metadata": {
        "id": "HZXouuAubw4S"
      },
      "execution_count": null,
      "outputs": []
    }
  ]
}